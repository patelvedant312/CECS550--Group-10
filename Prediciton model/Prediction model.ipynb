{
  "cells": [
    {
      "cell_type": "code",
      "execution_count": 27,
      "metadata": {
        "colab": {
          "base_uri": "https://localhost:8080/"
        },
        "id": "zvyrD81tIt3p",
        "outputId": "ce5409bc-0ef9-4c71-b81c-d487503a0a7c"
      },
      "outputs": [
        {
          "name": "stdout",
          "output_type": "stream",
          "text": [
            "Model Accuracy (Training Set): 0.9386413405465497\n",
            "Model Accuracy (Testing Set): 0.9396814444252775\n",
            "Recommendations:\n",
            "[0 0 0 ... 0 0 0]\n"
          ]
        }
      ],
      "source": [
        "import pandas as pd\n",
        "from sklearn.model_selection import train_test_split\n",
        "from sklearn.naive_bayes import GaussianNB\n",
        "from sklearn.impute import SimpleImputer\n",
        "\n",
        "# Load the consolidated dataset\n",
        "df = pd.read_csv('final_data.csv')\n",
        "\n",
        "# Separate features and target variable\n",
        "X = df.drop('label', axis=1)\n",
        "y = df['label']\n",
        "\n",
        "# Perform data preprocessing to handle missing values\n",
        "imputer = SimpleImputer(strategy='mean')\n",
        "X = imputer.fit_transform(X)\n",
        "\n",
        "# Split the data into training and testing sets\n",
        "X_train, X_test, y_train, y_test = train_test_split(X, y, test_size=0.2, random_state=42)\n",
        "\n",
        "# Train the Bayes Classifier\n",
        "model = GaussianNB()\n",
        "model.fit(X_train, y_train)\n",
        "\n",
        "# Evaluate model accuracy\n",
        "train_accuracy = model.score(X_train, y_train)\n",
        "test_accuracy = model.score(X_test, y_test)\n",
        "\n",
        "print(\"Model Accuracy (Training Set):\", train_accuracy)\n",
        "print(\"Model Accuracy (Testing Set):\", test_accuracy)\n",
        "\n",
        "# Use the trained model for recommendations\n",
        "# Assuming X_test contains customer data for recommendations\n",
        "recommendations = model.predict(X_test)\n",
        "\n",
        "# Print the recommendations\n",
        "print(\"Recommendations:\")\n",
        "print(recommendations)\n"
      ]
    },
    {
      "cell_type": "code",
      "execution_count": 28,
      "metadata": {
        "colab": {
          "base_uri": "https://localhost:8080/"
        },
        "id": "jPe0lwX2QFYc",
        "outputId": "764b815e-67ff-412e-a77f-2731b5436aba"
      },
      "outputs": [
        {
          "name": "stdout",
          "output_type": "stream",
          "text": [
            "Looking in indexes: https://pypi.org/simple, https://us-python.pkg.dev/colab-wheels/public/simple/\n",
            "Collecting knn\n",
            "  Downloading KNN-1.0.0.tar.gz (2.4 kB)\n",
            "  Preparing metadata (setup.py) ... \u001b[?25l\u001b[?25hdone\n",
            "Building wheels for collected packages: knn\n",
            "  Building wheel for knn (setup.py) ... \u001b[?25l\u001b[?25hdone\n",
            "  Created wheel for knn: filename=KNN-1.0.0-py3-none-any.whl size=3134 sha256=94e6b7d168f4104f2170b21ab0e1fd0848825d06dede80e96e507e3da3301606\n",
            "  Stored in directory: /root/.cache/pip/wheels/db/f0/9c/9da3fdf7ad3d19587a688434d71dbf38ced30bde9fb2975ff7\n",
            "Successfully built knn\n",
            "Installing collected packages: knn\n",
            "Successfully installed knn-1.0.0\n"
          ]
        }
      ],
      "source": [
        "pip install knn"
      ]
    },
    {
      "cell_type": "code",
      "execution_count": 29,
      "metadata": {
        "colab": {
          "base_uri": "https://localhost:8080/"
        },
        "id": "xHb0j4QGJHfl",
        "outputId": "a3884089-775c-4af3-e698-32f233eb3475"
      },
      "outputs": [
        {
          "name": "stdout",
          "output_type": "stream",
          "text": [
            "Accuracy of K-Nearest Neighbors Classifier: 0.9378797462288924\n"
          ]
        }
      ],
      "source": [
        "import pandas as pd\n",
        "from sklearn.model_selection import train_test_split\n",
        "from sklearn.neighbors import KNeighborsClassifier\n",
        "from sklearn.impute import SimpleImputer\n",
        "from sklearn.metrics import accuracy_score\n",
        "\n",
        "# Load the consolidated dataset\n",
        "df = pd.read_csv('final_data.csv')\n",
        "\n",
        "# Separate features and target variable\n",
        "X = df.drop('label', axis=1)\n",
        "y = df['label']\n",
        "\n",
        "# Preprocess the data by replacing missing values with mean\n",
        "imputer = SimpleImputer(strategy='mean')\n",
        "X = imputer.fit_transform(X)\n",
        "\n",
        "# Split the data into training and testing sets\n",
        "X_train, X_test, y_train, y_test = train_test_split(X, y, test_size=0.2, random_state=42)\n",
        "\n",
        "# K-Nearest Neighbors Classifier\n",
        "knn = KNeighborsClassifier(n_neighbors=5)\n",
        "knn.fit(X_train, y_train)\n",
        "\n",
        "# Predict on the test set\n",
        "y_pred_knn = knn.predict(X_test)\n",
        "\n",
        "# Evaluate the accuracy of K-Nearest Neighbors Classifier\n",
        "accuracy_knn = accuracy_score(y_test, y_pred_knn)\n",
        "print(\"Accuracy of K-Nearest Neighbors Classifier:\", accuracy_knn)\n"
      ]
    },
    {
      "cell_type": "code",
      "execution_count": 30,
      "metadata": {
        "id": "lwltrWG4R1UB"
      },
      "outputs": [],
      "source": [
        "from scipy import stats\n",
        "\n",
        "# Calculate z-scores\n",
        "z_scores = stats.zscore(X_train)\n",
        "\n",
        "# Remove rows with z-scores above a threshold (e.g., 3)\n",
        "X_train = X_train[(z_scores < 3).all(axis=1)]\n",
        "y_train = y_train[(z_scores < 3).all(axis=1)]\n"
      ]
    },
    {
      "cell_type": "code",
      "execution_count": null,
      "metadata": {
        "id": "iYfqXcRlQyGp"
      },
      "outputs": [],
      "source": [
        "# Parzen Windows Classifier\n",
        "parzen = RadiusNeighborsClassifier(radius=5000, weights='uniform')\n",
        "parzen.fit(X_train, y_train)\n",
        "\n",
        "# Predict on the test set using Parzen Windows Classifier\n",
        "y_pred_parzen = parzen.predict(X_test)\n",
        "\n",
        "# Evaluate the accuracy of Parzen Windows Classifier\n",
        "accuracy_parzen = accuracy_score(y_test, y_pred_parzen)\n",
        "print(\"Accuracy of Parzen Windows Classifier:\", accuracy_parzen)\n"
      ]
    },
    {
      "cell_type": "code",
      "execution_count": null,
      "metadata": {
        "id": "grdCYGvaPcHV"
      },
      "outputs": [],
      "source": []
    }
  ],
  "metadata": {
    "colab": {
      "provenance": []
    },
    "kernelspec": {
      "display_name": "Python 3",
      "name": "python3"
    },
    "language_info": {
      "name": "python"
    }
  },
  "nbformat": 4,
  "nbformat_minor": 0
}
