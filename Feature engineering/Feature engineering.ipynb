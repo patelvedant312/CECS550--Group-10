{
  "cells": [
    {
      "cell_type": "code",
      "execution_count": 12,
      "metadata": {
        "colab": {
          "base_uri": "https://localhost:8080/"
        },
        "id": "1t1JrF-NYly1",
        "outputId": "1b6e3006-0c1d-4ef8-e12e-0ae5bb6f76e6"
      },
      "outputs": [
        {
          "name": "stdout",
          "output_type": "stream",
          "text": [
            "Index(['user_id', 'item_id', 'cat_id', 'seller_id', 'brand_id', 'time_stamp',\n",
            "       'action_type'],\n",
            "      dtype='object')\n",
            "   user_id  item_id  cat_id  seller_id  brand_id  time_stamp  action_type  \\\n",
            "0   309587     1446     611       2353    2144.0         925            0   \n",
            "1   309587     1446     611       2353    2144.0         925            0   \n",
            "2   201592     1450     229        142    1845.0         717            0   \n",
            "3   370402     1450     229        142    1845.0         707            0   \n",
            "4   248429     1450     229        142    1845.0         618            0   \n",
            "\n",
            "   interaction_count  \n",
            "0                  2  \n",
            "1                  2  \n",
            "2                  1  \n",
            "3                  1  \n",
            "4                  2  \n"
          ]
        }
      ],
      "source": [
        "import pandas as pd\n",
        "\n",
        "\n",
        "# Check the columns in the dataset\n",
        "print(df_user_behavior_logs.columns)\n",
        "\n",
        "# Calculate the user-merchant interaction frequency\n",
        "interaction_frequency = df_user_behavior_logs.groupby(['user_id']).size().reset_index(name='interaction_count')\n",
        "\n",
        "# Merge the interaction frequency with the original dataset\n",
        "df_merged = pd.merge(df_user_behavior_logs, interaction_frequency, on='user_id', how='left')\n",
        "\n",
        "# Print the updated dataset\n",
        "print(df_merged.head())\n"
      ]
    },
    {
      "cell_type": "code",
      "execution_count": 13,
      "metadata": {
        "colab": {
          "base_uri": "https://localhost:8080/"
        },
        "id": "pEHggbd8ZAvH",
        "outputId": "668b0788-7cbf-41f8-c2bd-10011e64ecd2"
      },
      "outputs": [
        {
          "name": "stdout",
          "output_type": "stream",
          "text": [
            "   user_id  item_id  cat_id  seller_id  brand_id  time_stamp  action_type  \\\n",
            "0   309587     1446     611       2353    2144.0         925            0   \n",
            "1   309587     1446     611       2353    2144.0         925            0   \n",
            "2   201592     1450     229        142    1845.0         717            0   \n",
            "3   370402     1450     229        142    1845.0         707            0   \n",
            "4   248429     1450     229        142    1845.0         618            0   \n",
            "\n",
            "   purchase_count  \n",
            "0             NaN  \n",
            "1             NaN  \n",
            "2             NaN  \n",
            "3             NaN  \n",
            "4             1.0  \n"
          ]
        }
      ],
      "source": [
        "import pandas as pd\n",
        "\n",
        "# Filter the data for purchase actions only\n",
        "df_purchases = df_user_behavior_logs[df_user_behavior_logs['action_type'] == 2]\n",
        "\n",
        "# Calculate the purchase frequency for each user\n",
        "purchase_frequency = df_purchases.groupby('user_id').size().reset_index(name='purchase_count')\n",
        "\n",
        "# Merge the purchase frequency with the original dataset\n",
        "df_merged = pd.merge(df_user_behavior_logs, purchase_frequency, on='user_id', how='left')\n",
        "\n",
        "# Print the updated dataset\n",
        "print(df_merged.head())\n"
      ]
    },
    {
      "cell_type": "code",
      "execution_count": 14,
      "metadata": {
        "colab": {
          "base_uri": "https://localhost:8080/"
        },
        "id": "LWpzWG7fZkVc",
        "outputId": "b3006610-6efd-4693-fd71-84b749672d62"
      },
      "outputs": [
        {
          "name": "stdout",
          "output_type": "stream",
          "text": [
            "   user_id  item_id  cat_id  seller_id  brand_id  time_stamp  action_type  \\\n",
            "0   309587     1446     611       2353    2144.0         925            0   \n",
            "1   309587     1446     611       2353    2144.0         925            0   \n",
            "2   201592     1450     229        142    1845.0         717            0   \n",
            "3   370402     1450     229        142    1845.0         707            0   \n",
            "4   248429     1450     229        142    1845.0         618            0   \n",
            "\n",
            "   category_diversity  \n",
            "0                   1  \n",
            "1                   1  \n",
            "2                   1  \n",
            "3                   1  \n",
            "4                   1  \n"
          ]
        }
      ],
      "source": [
        "import pandas as pd\n",
        "\n",
        "# Calculate the user-merchant category diversity\n",
        "user_merchant_category_diversity = df_user_behavior_logs.groupby(['user_id', 'seller_id'])['cat_id'].nunique().reset_index(name='category_diversity')\n",
        "\n",
        "# Merge the category diversity with the original dataset\n",
        "df_merged = pd.merge(df_user_behavior_logs, user_merchant_category_diversity, on=['user_id', 'seller_id'], how='left')\n",
        "\n",
        "# Print the updated dataset\n",
        "print(df_merged.head())\n"
      ]
    },
    {
      "cell_type": "code",
      "execution_count": 15,
      "metadata": {
        "colab": {
          "base_uri": "https://localhost:8080/"
        },
        "id": "_jj5Rydzbft2",
        "outputId": "f01455e0-ac29-4926-ca81-e77c22bb8b80"
      },
      "outputs": [
        {
          "name": "stdout",
          "output_type": "stream",
          "text": [
            "   user_id  item_id  cat_id  seller_id  brand_id time_stamp  action_type  \\\n",
            "0   309587     1446     611       2353    2144.0 1900-09-25            0   \n",
            "1   309587     1446     611       2353    2144.0 1900-09-25            0   \n",
            "2   201592     1450     229        142    1845.0 1900-07-17            0   \n",
            "3   370402     1450     229        142    1845.0 1900-07-07            0   \n",
            "4   248429     1450     229        142    1845.0 1900-06-18            0   \n",
            "\n",
            "   purchase_frequency  \n",
            "0                 NaN  \n",
            "1                 NaN  \n",
            "2                 NaN  \n",
            "3                 NaN  \n",
            "4                 1.0  \n"
          ]
        }
      ],
      "source": [
        "import pandas as pd\n",
        "\n",
        "# Convert the 'time_stamp' column to datetime\n",
        "df_user_behavior_logs['time_stamp'] = pd.to_datetime(df_user_behavior_logs['time_stamp'], format='%m%d')\n",
        "\n",
        "# Calculate the user purchase frequency\n",
        "user_purchase_frequency = df_user_behavior_logs[df_user_behavior_logs['action_type'] == 2].groupby('user_id')['time_stamp'].nunique().reset_index(name='purchase_frequency')\n",
        "\n",
        "# Merge the purchase frequency with the original dataset\n",
        "df_merged = pd.merge(df_user_behavior_logs, user_purchase_frequency, on='user_id', how='left')\n",
        "\n",
        "# Print the updated dataset\n",
        "print(df_merged.head())\n"
      ]
    },
    {
      "cell_type": "code",
      "execution_count": 16,
      "metadata": {
        "colab": {
          "base_uri": "https://localhost:8080/"
        },
        "id": "Lf9JdXWRb2fm",
        "outputId": "18dd05d9-dda3-4601-8f60-c72aa90cbbf3"
      },
      "outputs": [
        {
          "name": "stdout",
          "output_type": "stream",
          "text": [
            "   user_id  item_id  cat_id  seller_id  brand_id time_stamp  action_type  \\\n",
            "0   309587     1446     611       2353    2144.0 1900-09-25            0   \n",
            "1   309587     1446     611       2353    2144.0 1900-09-25            0   \n",
            "2   201592     1450     229        142    1845.0 1900-07-17            0   \n",
            "3   370402     1450     229        142    1845.0 1900-07-07            0   \n",
            "4   248429     1450     229        142    1845.0 1900-06-18            0   \n",
            "\n",
            "   popularity  \n",
            "0           2  \n",
            "1           2  \n",
            "2           7  \n",
            "3           7  \n",
            "4           7  \n"
          ]
        }
      ],
      "source": [
        "import pandas as pd\n",
        "\n",
        "# Calculate the merchant popularity\n",
        "merchant_popularity = df_user_behavior_logs.groupby('seller_id').size().reset_index(name='popularity')\n",
        "\n",
        "# Merge the merchant popularity with the original dataset\n",
        "df_merged = pd.merge(df_user_behavior_logs, merchant_popularity, on='seller_id', how='left')\n",
        "\n",
        "# Print the updated dataset\n",
        "print(df_merged.head())\n"
      ]
    },
    {
      "cell_type": "code",
      "execution_count": 17,
      "metadata": {
        "colab": {
          "base_uri": "https://localhost:8080/"
        },
        "id": "ryQK21cvcTk9",
        "outputId": "0fd89480-eb5d-4895-f80b-255270e72259"
      },
      "outputs": [
        {
          "name": "stdout",
          "output_type": "stream",
          "text": [
            "   user_id  item_id  cat_id  seller_id  brand_id time_stamp  action_type  \\\n",
            "0   309587     1446     611       2353    2144.0 1900-09-25            0   \n",
            "1   309587     1446     611       2353    2144.0 1900-09-25            0   \n",
            "2   201592     1450     229        142    1845.0 1900-07-17            0   \n",
            "3   370402     1450     229        142    1845.0 1900-07-07            0   \n",
            "4   248429     1450     229        142    1845.0 1900-06-18            0   \n",
            "\n",
            "   purchase_history  \n",
            "0                 0  \n",
            "1                 0  \n",
            "2                 0  \n",
            "3                 0  \n",
            "4                 1  \n"
          ]
        }
      ],
      "source": [
        "import pandas as pd\n",
        "\n",
        "# Calculate the user purchase history\n",
        "user_purchase_history = df_user_behavior_logs.groupby('user_id')['action_type'].apply(lambda x: (x == 2).sum()).reset_index(name='purchase_history')\n",
        "\n",
        "# Merge the user purchase history with the original dataset\n",
        "df_merged = pd.merge(df_user_behavior_logs, user_purchase_history, on='user_id', how='left')\n",
        "\n",
        "# Print the updated dataset\n",
        "print(df_merged.head())\n"
      ]
    },
    {
      "cell_type": "code",
      "execution_count": 18,
      "metadata": {
        "colab": {
          "base_uri": "https://localhost:8080/"
        },
        "id": "_bLVtahvc8wt",
        "outputId": "c4942d1e-bbdd-4c1f-87ae-4582fd013f56"
      },
      "outputs": [
        {
          "name": "stdout",
          "output_type": "stream",
          "text": [
            "    age_range  gender  interaction_count  total_count  interaction_ratio\n",
            "0         0.0     0.0                 13        92914           0.000140\n",
            "1         0.0     1.0                  1        92914           0.000011\n",
            "2         2.0     0.0                  6        52871           0.000113\n",
            "3         3.0     0.0                 25       111654           0.000224\n",
            "4         3.0     1.0                  4       111654           0.000036\n",
            "5         3.0     2.0                  5       111654           0.000045\n",
            "6         4.0     0.0                 42        79991           0.000525\n",
            "7         4.0     1.0                 29        79991           0.000363\n",
            "8         4.0     2.0                  5        79991           0.000063\n",
            "9         5.0     0.0                 56        40777           0.001373\n",
            "10        5.0     1.0                 10        40777           0.000245\n",
            "11        6.0     0.0                 13        35464           0.000367\n",
            "12        6.0     1.0                  4        35464           0.000113\n",
            "13        7.0     0.0                  1         6992           0.000143\n",
            "14        7.0     1.0                 13         6992           0.001859\n"
          ]
        }
      ],
      "source": [
        "import pandas as pd\n",
        "\n",
        "# Merge the user behavior and user profile data based on user_id\n",
        "df_merged = pd.merge(df_user_behavior_logs, df_user_profile, on='user_id')\n",
        "\n",
        "# Calculate the interaction count by age group and gender\n",
        "interaction_count = df_merged.groupby(['age_range', 'gender']).size().reset_index(name='interaction_count')\n",
        "\n",
        "# Calculate the total count by age group\n",
        "total_count_by_age = df_user_profile.groupby('age_range').size().reset_index(name='total_count')\n",
        "\n",
        "# Merge the interaction count and total count by age group\n",
        "df_ratio = pd.merge(interaction_count, total_count_by_age, on='age_range')\n",
        "\n",
        "# Calculate the interaction ratio\n",
        "df_ratio['interaction_ratio'] = df_ratio['interaction_count'] / df_ratio['total_count']\n",
        "\n",
        "# Print the interaction ratio by age group and gender\n",
        "print(df_ratio)\n"
      ]
    },
    {
      "cell_type": "code",
      "execution_count": 19,
      "metadata": {
        "colab": {
          "base_uri": "https://localhost:8080/"
        },
        "id": "LXk6hqJedsok",
        "outputId": "b6f659e3-6047-4a10-aca7-97d484f92b2c"
      },
      "outputs": [
        {
          "name": "stdout",
          "output_type": "stream",
          "text": [
            "     user_id  seller_id latest_purchase_date  purchase_recency\n",
            "0       2799       4044           1900-07-29               105\n",
            "1       2859       1679           1900-09-12                60\n",
            "2       4351        790           1900-06-28               136\n",
            "3       6230       1606           1900-10-24                18\n",
            "4       6539       2336           1900-11-11                 0\n",
            "..       ...        ...                  ...               ...\n",
            "148   405751       3727           1900-11-06                 5\n",
            "149   406287        543           1900-06-13               151\n",
            "150   410585       1674           1900-05-24               171\n",
            "151   413594       2617           1900-11-11                 0\n",
            "152   421338        286           1900-11-09                 2\n",
            "\n",
            "[153 rows x 4 columns]\n"
          ]
        }
      ],
      "source": [
        "import pandas as pd\n",
        "\n",
        "# Convert 'time_stamp' column to datetime type\n",
        "df_user_behavior_logs['time_stamp'] = pd.to_datetime(df_user_behavior_logs['time_stamp'], format='%m%d')\n",
        "\n",
        "# Group the data by user and merchant and calculate the maximum purchase date\n",
        "purchase_recency = df_user_behavior_logs.groupby(['user_id', 'seller_id'])['time_stamp'].max().reset_index(name='latest_purchase_date')\n",
        "\n",
        "# Calculate the purchase recency in days from the latest date\n",
        "latest_date = df_user_behavior_logs['time_stamp'].max()\n",
        "purchase_recency['purchase_recency'] = (latest_date - purchase_recency['latest_purchase_date']).dt.days\n",
        "\n",
        "# Print the purchase recency for each user and merchant\n",
        "print(purchase_recency)\n"
      ]
    },
    {
      "cell_type": "code",
      "execution_count": 20,
      "metadata": {
        "colab": {
          "base_uri": "https://localhost:8080/"
        },
        "id": "Oli6wiXbgtsV",
        "outputId": "7cb8cd70-68b5-4933-b20f-3d1547291937"
      },
      "outputs": [
        {
          "name": "stdout",
          "output_type": "stream",
          "text": [
            "             user_id      item_id       cat_id    seller_id     brand_id  \\\n",
            "count     227.000000   227.000000   227.000000   227.000000   226.000000   \n",
            "mean   200388.585903  1548.277533   821.312775  1832.317181  4239.017699   \n",
            "std    121242.614659    47.637622   379.871594  1237.439465  2693.743982   \n",
            "min      2799.000000  1446.000000   119.000000     1.000000    82.000000   \n",
            "25%     92113.000000  1521.000000   662.000000   543.000000  1662.000000   \n",
            "50%    203647.000000  1559.000000   737.000000  2161.000000  4382.000000   \n",
            "75%    289349.000000  1592.000000  1198.000000  2617.000000  6483.000000   \n",
            "max    421338.000000  1609.000000  1596.000000  4940.000000  8420.000000   \n",
            "\n",
            "        time_stamp  action_type  \n",
            "count   227.000000   227.000000  \n",
            "mean    963.299559     0.246696  \n",
            "std     183.566940     0.758973  \n",
            "min     521.000000     0.000000  \n",
            "25%     864.500000     0.000000  \n",
            "50%    1030.000000     0.000000  \n",
            "75%    1110.000000     0.000000  \n",
            "max    1111.000000     3.000000  \n"
          ]
        }
      ],
      "source": [
        "import pandas as pd\n",
        "\n",
        "# Load the data into a pandas DataFrame\n",
        "df = pd.read_csv('/content/drive/MyDrive/PR Project/user_log_format1.csv')\n",
        "\n",
        "# Generate the statistical summary\n",
        "statistics_summary = df.describe()\n",
        "\n",
        "# Print the statistical summary\n",
        "print(statistics_summary)\n"
      ]
    }
  ],
  "metadata": {
    "colab": {
      "provenance": []
    },
    "kernelspec": {
      "display_name": "Python 3",
      "name": "python3"
    },
    "language_info": {
      "name": "python"
    }
  },
  "nbformat": 4,
  "nbformat_minor": 0
}
